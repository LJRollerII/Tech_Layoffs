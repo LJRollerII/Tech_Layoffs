{
 "cells": [
  {
   "cell_type": "code",
   "execution_count": null,
   "id": "58893755",
   "metadata": {},
   "outputs": [],
   "source": [
    "import pandas as pd\n",
    "import numpy as np\n",
    "import matplotlib.pyplot as plt\n",
    "import seaborn as sns\n",
    "%matplotlib inline\n",
    "import warnings\n",
    "import plotly.express as px \n",
    "import plotly.graph_objects as go\n",
    "from plotly.subplots import make_subplots\n",
    "from IPython.core.interactiveshell import InteractiveShell\n",
    "InteractiveShell.ast_node_interactivity = \"all\""
   ]
  },
  {
   "cell_type": "code",
   "execution_count": null,
   "id": "f1ee3098",
   "metadata": {},
   "outputs": [],
   "source": [
    "layoff_df = pd.read_csv(\"../data/layoffs.csv\")\n",
    "layoff_df"
   ]
  },
  {
   "cell_type": "code",
   "execution_count": null,
   "id": "2c8facf0",
   "metadata": {},
   "outputs": [],
   "source": [
    "layoff_df.info"
   ]
  },
  {
   "cell_type": "code",
   "execution_count": null,
   "id": "4972706c",
   "metadata": {
    "scrolled": true
   },
   "outputs": [],
   "source": [
    "print(layoff_df.dtypes)"
   ]
  },
  {
   "cell_type": "code",
   "execution_count": null,
   "id": "33cf871e",
   "metadata": {
    "scrolled": true
   },
   "outputs": [],
   "source": [
    "layoff_df.isnull().sum()"
   ]
  },
  {
   "cell_type": "markdown",
   "id": "c733897f",
   "metadata": {},
   "source": [
    "# Exploring Industry Data"
   ]
  },
  {
   "cell_type": "code",
   "execution_count": null,
   "id": "3dc781ad",
   "metadata": {},
   "outputs": [],
   "source": [
    "industry = pd.DataFrame(layoff_df.industry.value_counts().reset_index())\n",
    "industry"
   ]
  },
  {
   "cell_type": "code",
   "execution_count": null,
   "id": "f874b128",
   "metadata": {},
   "outputs": [],
   "source": [
    "industry.columns = ['Industry', 'Companies']\n",
    "industry"
   ]
  },
  {
   "cell_type": "code",
   "execution_count": null,
   "id": "74ba1ba6",
   "metadata": {
    "scrolled": false
   },
   "outputs": [],
   "source": [
    "industry.Companies.nlargest(5)"
   ]
  },
  {
   "cell_type": "code",
   "execution_count": null,
   "id": "1d94ff47",
   "metadata": {},
   "outputs": [],
   "source": [
    "topind_layoffs = industry[industry['Industry'].isin(['Finance', 'Retail', 'Healthcare','Transportation', 'Marketing'])]"
   ]
  },
  {
   "cell_type": "code",
   "execution_count": null,
   "id": "0d81ea1c",
   "metadata": {
    "scrolled": true
   },
   "outputs": [],
   "source": [
    "plt.bar(topind_layoffs.Industry,topind_layoffs.Companies)\n",
    "plt.title('Industry with the most Layoffs')\n",
    "plt.xlabel('Industry')\n",
    "plt.ylabel('Number of Companies')\n",
    "plt.show()"
   ]
  },
  {
   "cell_type": "markdown",
   "id": "76d7025a",
   "metadata": {},
   "source": [
    "# Exploring Location Data"
   ]
  },
  {
   "cell_type": "code",
   "execution_count": null,
   "id": "b7e1b9d6",
   "metadata": {},
   "outputs": [],
   "source": [
    "location = pd.DataFrame(layoff_df.location.value_counts().reset_index())\n",
    "location"
   ]
  },
  {
   "cell_type": "code",
   "execution_count": null,
   "id": "3ceb1c9b",
   "metadata": {},
   "outputs": [],
   "source": [
    "location.columns = ['Location', 'Companies']\n",
    "location"
   ]
  },
  {
   "cell_type": "code",
   "execution_count": null,
   "id": "fa28b3f4",
   "metadata": {},
   "outputs": [],
   "source": [
    "top_location = location[location['Location'].isin(['SF Bay Area', 'New York City', 'Los Angeles','Boston', 'Seattle'])]"
   ]
  },
  {
   "cell_type": "code",
   "execution_count": null,
   "id": "f65ddec1",
   "metadata": {
    "scrolled": false
   },
   "outputs": [],
   "source": [
    "plt.step(top_location.Location,top_location.Companies, color='green')\n",
    "plt.title('Location with the most Layoffs')\n",
    "plt.xlabel('Location')\n",
    "plt.ylabel('Number of Companies')\n",
    "plt.show()"
   ]
  },
  {
   "cell_type": "markdown",
   "id": "f3f117d8",
   "metadata": {},
   "source": [
    "# Exploring Country Data"
   ]
  },
  {
   "cell_type": "code",
   "execution_count": null,
   "id": "7dcf6382",
   "metadata": {},
   "outputs": [],
   "source": [
    "country = pd.DataFrame(layoff_df.country.value_counts().reset_index())\n",
    "country"
   ]
  },
  {
   "cell_type": "code",
   "execution_count": null,
   "id": "57c560aa",
   "metadata": {},
   "outputs": [],
   "source": [
    "country.columns = ['Country', 'Companies']\n",
    "country"
   ]
  },
  {
   "cell_type": "code",
   "execution_count": null,
   "id": "bcfe419f",
   "metadata": {},
   "outputs": [],
   "source": [
    "top_countries = country[country['Country'].isin(['United States', 'India', 'Canada','Brazil', 'United Kingdom'])]"
   ]
  },
  {
   "cell_type": "code",
   "execution_count": null,
   "id": "d3ca90f9",
   "metadata": {},
   "outputs": [],
   "source": [
    "plt.stackplot(top_countries.Country,top_countries.Companies, color='purple')\n",
    "plt.title('Country with the most Layoffs')\n",
    "plt.xlabel('Country')\n",
    "plt.ylabel('Number of Companies')\n",
    "plt.show()"
   ]
  },
  {
   "cell_type": "code",
   "execution_count": null,
   "id": "9ca55e3d",
   "metadata": {
    "scrolled": true
   },
   "outputs": [],
   "source": [
    "# Creating dataset\n",
    "nations = ['United States', 'India', 'Canada',\n",
    "           'Brazil', 'United Kingdom']\n",
    "\n",
    "\n",
    "nation_data = [1062, 101, 69, 29, 52, 46]\n",
    "\n",
    "\n",
    "# Creating explode data\n",
    "explode = (0.1, 0.0, 0.2, 0.3, 0.0, 0.0)\n",
    "\n",
    "# Creating color parameters\n",
    "colors = ( \"orange\", \"cyan\", \"brown\",\n",
    "          \"grey\", \"indigo\", \"beige\")\n",
    "\n",
    "# Wedge properties\n",
    "wp = { 'linewidth' : 1, 'edgecolor' : \"green\" }\n",
    "\n",
    "# Creating autocpt arguments\n",
    "def func(pct, allvalues):\n",
    "    absolute = int(pct / 100.*np.sum(allvalues))\n",
    "    return \"{:.1f}%\\n({:d} g)\".format(pct, absolute)\n",
    "\n",
    "# Creating plot\n",
    "fig, ax = plt.subplots(figsize =(10, 7))\n",
    "wedges, texts, autotexts = ax.pie(nation_data,\n",
    "                                autopct = lambda pct: func(pct, nation_data),\n",
    "                                explode = explode,\n",
    "                                labels = nations,\n",
    "                                shadow = True,\n",
    "                                colors = colors,\n",
    "                                startangle = 90,\n",
    "                                wedgeprops = wp,\n",
    "                                textprops = dict(color =\"magenta\"))\n",
    "\n",
    "# Adding legend\n",
    "ax.legend(wedges, nations,\n",
    "        title =\"Countries\",\n",
    "        loc =\"center left\",\n",
    "        bbox_to_anchor =(1, 0, 0.5, 1))\n",
    "\n",
    "plt.setp(autotexts, size = 8, weight =\"bold\")\n",
    "ax.set_title(\"Countries with the most Layoffs\")\n",
    "\n",
    "# show plot\n",
    "plt.show()\n"
   ]
  },
  {
   "cell_type": "code",
   "execution_count": null,
   "id": "df6a6e67",
   "metadata": {},
   "outputs": [],
   "source": [
    "fig = px.pie(layoff_df, values='total_laid_off', names='country',hole=.5,\n",
    "                    template=\"plotly_white\")\n",
    "fig.update_traces(textposition='inside',textinfo='percent+label')\n",
    "fig.update_layout(height=700,\n",
    "                  title='Percentage of Laid-off Employees By Country')\n",
    "fig.show()"
   ]
  },
  {
   "cell_type": "markdown",
   "id": "e8ebbb22",
   "metadata": {},
   "source": [
    "# Exploring Company Data"
   ]
  },
  {
   "cell_type": "code",
   "execution_count": null,
   "id": "64f2d292",
   "metadata": {
    "scrolled": true
   },
   "outputs": [],
   "source": [
    "top_companies = layoff_df.nlargest(5,['total_laid_off'])\n",
    "top_companies"
   ]
  },
  {
   "cell_type": "code",
   "execution_count": null,
   "id": "07778b1d",
   "metadata": {
    "scrolled": true
   },
   "outputs": [],
   "source": [
    "plt.figure(figsize=(10,6))\n",
    "sns.barplot(x=top_companies.company, y=top_companies.total_laid_off)\n",
    "plt.title(\"Company with the most Layoffs\", fontsize=15, fontweight='bold')\n",
    "plt.xlabel(\"Company\")\n",
    "plt.ylabel(\"Number of Layoffs\")\n",
    "plt.show()"
   ]
  },
  {
   "cell_type": "code",
   "execution_count": null,
   "id": "92a3660a",
   "metadata": {},
   "outputs": [],
   "source": [
    "nested_pie =  layoff_df.sort_values('total_laid_off', ascending=False).drop_duplicates('country').iloc[:10]\n",
    "\n",
    "fig = px.sunburst(nested_pie, path=['country','company'], values='total_laid_off',\n",
    "                  color='total_laid_off',\n",
    "                  color_continuous_scale='rdbu',template=\"plotly_white\",\n",
    "                  )\n",
    "fig.update_layout(height=650, title = \"Major Corporations from Ten Nations that have reduced their Workforce\" , title_x = 0.47,)\n",
    "fig.show()"
   ]
  },
  {
   "cell_type": "markdown",
   "id": "80670521",
   "metadata": {},
   "source": [
    "# Exploring Stage Data"
   ]
  },
  {
   "cell_type": "code",
   "execution_count": null,
   "id": "af89a737",
   "metadata": {},
   "outputs": [],
   "source": [
    "layoff_df.stage.unique()"
   ]
  },
  {
   "cell_type": "code",
   "execution_count": null,
   "id": "3fe6e9bc",
   "metadata": {},
   "outputs": [],
   "source": [
    "layoff_df.groupby([\"stage\"]).total_laid_off.sum()"
   ]
  },
  {
   "cell_type": "code",
   "execution_count": null,
   "id": "d08cc6d5",
   "metadata": {},
   "outputs": [],
   "source": [
    "px.bar(layoff_df.groupby([\"stage\"]).total_laid_off.sum().sort_values(ascending=False),title='Layoffs By Company Stage',\n",
    "       text_auto=True,orientation='h')"
   ]
  },
  {
   "cell_type": "markdown",
   "id": "b0daf720",
   "metadata": {},
   "source": [
    "# General Statistics"
   ]
  },
  {
   "cell_type": "markdown",
   "id": "8999660b",
   "metadata": {},
   "source": [
    "Let's do a correlation map of all the data"
   ]
  },
  {
   "cell_type": "code",
   "execution_count": null,
   "id": "cbd4b5d0",
   "metadata": {},
   "outputs": [],
   "source": [
    "layoff_df.corr()"
   ]
  },
  {
   "cell_type": "code",
   "execution_count": null,
   "id": "49a5df35",
   "metadata": {},
   "outputs": [],
   "source": [
    "sns.heatmap(layoff_df.corr(), annot=True, cmap=\"coolwarm\")"
   ]
  },
  {
   "cell_type": "markdown",
   "id": "4ce5cdba",
   "metadata": {},
   "source": [
    "Let's get some more info in regards to the number of people laid off."
   ]
  },
  {
   "cell_type": "code",
   "execution_count": null,
   "id": "fd33b101",
   "metadata": {},
   "outputs": [],
   "source": [
    "layoff_df.total_laid_off.mean()"
   ]
  },
  {
   "cell_type": "code",
   "execution_count": null,
   "id": "3751b7af",
   "metadata": {},
   "outputs": [],
   "source": [
    "layoff_df.total_laid_off.min()"
   ]
  },
  {
   "cell_type": "code",
   "execution_count": null,
   "id": "a1d4c499",
   "metadata": {},
   "outputs": [],
   "source": [
    "layoff_df.total_laid_off.max()"
   ]
  },
  {
   "cell_type": "code",
   "execution_count": null,
   "id": "cbe1c185",
   "metadata": {},
   "outputs": [],
   "source": [
    "layoff_df.total_laid_off.sum()"
   ]
  },
  {
   "cell_type": "markdown",
   "id": "3bfb54e1",
   "metadata": {},
   "source": [
    "Now let's do the same for the percent laid off"
   ]
  },
  {
   "cell_type": "code",
   "execution_count": null,
   "id": "8ca9d800",
   "metadata": {},
   "outputs": [],
   "source": [
    "layoff_df.percentage_laid_off.mean()"
   ]
  },
  {
   "cell_type": "code",
   "execution_count": null,
   "id": "2ad815c8",
   "metadata": {},
   "outputs": [],
   "source": [
    "layoff_df.percentage_laid_off.min()"
   ]
  },
  {
   "cell_type": "code",
   "execution_count": null,
   "id": "5dd7f131",
   "metadata": {},
   "outputs": [],
   "source": [
    "layoff_df.percentage_laid_off.max()"
   ]
  },
  {
   "cell_type": "code",
   "execution_count": null,
   "id": "e9b0464b",
   "metadata": {},
   "outputs": [],
   "source": [
    "layoff_df.percentage_laid_off.sum()"
   ]
  },
  {
   "cell_type": "markdown",
   "id": "0ded1f71",
   "metadata": {},
   "source": [
    "Now let's do it for the amount of funds raised"
   ]
  },
  {
   "cell_type": "code",
   "execution_count": null,
   "id": "8505df62",
   "metadata": {},
   "outputs": [],
   "source": [
    "layoff_df.funds_raised.mean()"
   ]
  },
  {
   "cell_type": "code",
   "execution_count": null,
   "id": "f3d49352",
   "metadata": {},
   "outputs": [],
   "source": [
    "layoff_df.funds_raised.min()"
   ]
  },
  {
   "cell_type": "code",
   "execution_count": null,
   "id": "65815c8d",
   "metadata": {},
   "outputs": [],
   "source": [
    "layoff_df.funds_raised.max()"
   ]
  },
  {
   "cell_type": "code",
   "execution_count": null,
   "id": "4c03a8db",
   "metadata": {},
   "outputs": [],
   "source": [
    "layoff_df.funds_raised.sum()"
   ]
  },
  {
   "cell_type": "markdown",
   "id": "cd31f278",
   "metadata": {},
   "source": [
    "Let's make columns for the day month and year"
   ]
  },
  {
   "cell_type": "code",
   "execution_count": null,
   "id": "3f0a0f37",
   "metadata": {},
   "outputs": [],
   "source": [
    "layoff2 = layoff_df.copy()\n",
    "\n",
    "layoff2['year']=layoff_df['date'].str.split('-').str[0]\n",
    "layoff2['month']=layoff_df['date'].str.split('-').str[1]\n",
    "layoff2['day']=layoff_df['date'].str.split('-').str[2]\n",
    "\n",
    "layoff2['year']=layoff2['year'].astype(int)\n",
    "layoff2['month']=layoff2['month'].astype(int)\n",
    "layoff2['day']=layoff2['day'].astype(int)\n",
    "\n",
    "# Alternative formula year is df[\"Year\"] = df[\"date\"].map(lambda x : x[:4])"
   ]
  },
  {
   "cell_type": "code",
   "execution_count": null,
   "id": "e6c80ee5",
   "metadata": {
    "scrolled": true
   },
   "outputs": [],
   "source": [
    "layoff2.head(3)"
   ]
  },
  {
   "cell_type": "markdown",
   "id": "4aae6506",
   "metadata": {},
   "source": [
    " Let's turn this dataframe into an excel workbook"
   ]
  },
  {
   "cell_type": "code",
   "execution_count": null,
   "id": "c49f7f65",
   "metadata": {},
   "outputs": [],
   "source": [
    "xlwriter = pd.ExcelWriter('tech_layoffs.xlsx')  \n",
    "layoff2.to_excel(xlwriter, sheet_name='layoffs')\n",
    "xlwriter.close()"
   ]
  },
  {
   "cell_type": "markdown",
   "id": "5e11836d",
   "metadata": {},
   "source": [
    "# Yearly Data Analysis"
   ]
  },
  {
   "cell_type": "code",
   "execution_count": null,
   "id": "9497bc3c",
   "metadata": {},
   "outputs": [],
   "source": [
    "layoff2.groupby([\"year\"],sort=False)[\"total_laid_off\"].max()"
   ]
  },
  {
   "cell_type": "code",
   "execution_count": null,
   "id": "19affc6a",
   "metadata": {
    "scrolled": true
   },
   "outputs": [],
   "source": [
    "g = sns.catplot(x='year', y='total_laid_off', data=layoff2)\n",
    "g.fig.set_figwidth(10)\n",
    "g.fig.set_figheight(6) "
   ]
  },
  {
   "cell_type": "code",
   "execution_count": null,
   "id": "e967b2fa",
   "metadata": {
    "scrolled": true
   },
   "outputs": [],
   "source": [
    "top_3_year_wise = layoff2.groupby(['year','company']).total_laid_off.agg([max])\n",
    "top_3_year_wise"
   ]
  },
  {
   "cell_type": "code",
   "execution_count": null,
   "id": "d47ea75a",
   "metadata": {},
   "outputs": [],
   "source": [
    "g = top_3_year_wise[\"max\"].groupby(['year'],group_keys=False)\n",
    "top_3_year_wise2 = g.apply(lambda x : x.sort_values(ascending=False).head(3))\n",
    "top_3_year_wise2"
   ]
  },
  {
   "cell_type": "code",
   "execution_count": null,
   "id": "bb4525e0",
   "metadata": {
    "scrolled": true
   },
   "outputs": [],
   "source": [
    "g.nlargest(3)"
   ]
  },
  {
   "cell_type": "code",
   "execution_count": null,
   "id": "24e8db2a",
   "metadata": {
    "scrolled": true
   },
   "outputs": [],
   "source": [
    "top_3_year_wise2.index\n",
    "top_3_year_wise2.values"
   ]
  },
  {
   "cell_type": "code",
   "execution_count": null,
   "id": "0d556bb0",
   "metadata": {
    "scrolled": true
   },
   "outputs": [],
   "source": [
    "top_3_year_wise3 = pd.DataFrame()\n",
    "top_3_year_wise3[\"total_laid_off\"] = top_3_year_wise2.values\n",
    "top_3_year_wise3"
   ]
  },
  {
   "cell_type": "code",
   "execution_count": null,
   "id": "27d66f91",
   "metadata": {},
   "outputs": [],
   "source": [
    "top_3_year_wise3.columns = ['Number of Layoffs']"
   ]
  },
  {
   "cell_type": "code",
   "execution_count": null,
   "id": "a106bb23",
   "metadata": {},
   "outputs": [],
   "source": [
    "y = []\n",
    "c = []\n",
    "for i,j in top_3_year_wise2.index:\n",
    "    y.append(i)\n",
    "    c.append(j)\n",
    "top_3_year_wise3[\"Year\"] = y\n",
    "top_3_year_wise3[\"Company\"] = c\n",
    "top_3_year_wise3"
   ]
  },
  {
   "cell_type": "code",
   "execution_count": null,
   "id": "d4052b98",
   "metadata": {
    "scrolled": false
   },
   "outputs": [],
   "source": [
    "px.bar(top_3_year_wise3,x='Year',y='Number of Layoffs',color='Company', title='Top 3 Companies with the most Layoffs Year-wise',text_auto=True)"
   ]
  },
  {
   "cell_type": "code",
   "execution_count": null,
   "id": "ace1fd14",
   "metadata": {},
   "outputs": [],
   "source": [
    "top_3_loction_year_wise = layoff2.groupby([\"year\",\"location\"]).total_laid_off.agg([max])\n",
    "top_3_loction_year_wise"
   ]
  },
  {
   "cell_type": "code",
   "execution_count": null,
   "id": "843699fb",
   "metadata": {},
   "outputs": [],
   "source": [
    "gloc = top_3_loction_year_wise.groupby([\"year\"],group_keys=False)\n",
    "top_3_loction_year_wise2 = gloc.apply(lambda x : x.sort_values([\"max\"], ascending=False).head(3)) \n",
    "top_3_loction_year_wise2"
   ]
  },
  {
   "cell_type": "code",
   "execution_count": null,
   "id": "ab385469",
   "metadata": {},
   "outputs": [],
   "source": [
    "top_3_loction_year_wise2.values.reshape(9,).tolist()"
   ]
  },
  {
   "cell_type": "code",
   "execution_count": null,
   "id": "cedf1681",
   "metadata": {},
   "outputs": [],
   "source": [
    "top_3_loction_year_wise3 = pd.DataFrame()\n",
    "top_3_loction_year_wise3[\"total_laid_off\"] = top_3_loction_year_wise2.values.reshape(9,).tolist()\n",
    "top_3_loction_year_wise3"
   ]
  },
  {
   "cell_type": "code",
   "execution_count": null,
   "id": "294b61b9",
   "metadata": {},
   "outputs": [],
   "source": [
    "top_3_loction_year_wise3.columns = ['Number of Layoffs']"
   ]
  },
  {
   "cell_type": "code",
   "execution_count": null,
   "id": "78c625f3",
   "metadata": {},
   "outputs": [],
   "source": [
    "y = []\n",
    "l = []\n",
    "for i,j in top_3_loction_year_wise2.index:\n",
    "    y.append(i)\n",
    "    l.append(j)\n",
    "top_3_loction_year_wise3[\"Year\"] = y\n",
    "top_3_loction_year_wise3[\"Location\"] = l\n",
    "top_3_loction_year_wise3"
   ]
  },
  {
   "cell_type": "code",
   "execution_count": null,
   "id": "bbb2df0f",
   "metadata": {
    "scrolled": true
   },
   "outputs": [],
   "source": [
    "px.bar(top_3_loction_year_wise3,x='Year',y='Number of Layoffs',color='Location', title='Top 3 Locations Year-wise with the most Layoffs',text_auto=True)"
   ]
  },
  {
   "cell_type": "code",
   "execution_count": null,
   "id": "7e4e70e1",
   "metadata": {},
   "outputs": [],
   "source": [
    "total_laid_year_country_wise  = layoff2.groupby([\"year\",\"country\"]).total_laid_off.sum()\n",
    "total_laid_year_country_wise "
   ]
  },
  {
   "cell_type": "code",
   "execution_count": null,
   "id": "0f4db473",
   "metadata": {},
   "outputs": [],
   "source": [
    "len(layoff2.country.unique())"
   ]
  },
  {
   "cell_type": "code",
   "execution_count": null,
   "id": "82ffe22d",
   "metadata": {},
   "outputs": [],
   "source": [
    "total_laid_year_country_wise_year = []\n",
    "total_laid_year_country_wise_country = []\n",
    "for i,j in total_laid_year_country_wise.index:\n",
    "    total_laid_year_country_wise_year.append(i)\n",
    "    total_laid_year_country_wise_country.append(j)"
   ]
  },
  {
   "cell_type": "code",
   "execution_count": null,
   "id": "514b35df",
   "metadata": {},
   "outputs": [],
   "source": [
    "total_laid_year_country_wise2 = pd.DataFrame({\n",
    "    \"Year\": total_laid_year_country_wise_year,\n",
    "    \"Country\": total_laid_year_country_wise_country,\n",
    "    \"total_laid_off\": total_laid_year_country_wise.values \n",
    "})"
   ]
  },
  {
   "cell_type": "code",
   "execution_count": null,
   "id": "28c6ef5c",
   "metadata": {
    "scrolled": true
   },
   "outputs": [],
   "source": [
    "total_laid_year_country_wise2"
   ]
  },
  {
   "cell_type": "code",
   "execution_count": null,
   "id": "5070d07d",
   "metadata": {},
   "outputs": [],
   "source": [
    "total_laid_year_country_wise2.columns = ['Year', 'Country', 'Number of Layoffs']"
   ]
  },
  {
   "cell_type": "code",
   "execution_count": null,
   "id": "9afa6b5c",
   "metadata": {},
   "outputs": [],
   "source": [
    "total_laid_year_country_wise2.sort_values([\"Year\",\"Number of Layoffs\"],ascending=False,inplace=True)"
   ]
  },
  {
   "cell_type": "code",
   "execution_count": null,
   "id": "2b1b8ce5",
   "metadata": {},
   "outputs": [],
   "source": [
    "px.bar(total_laid_year_country_wise2,x='Year',y='Number of Layoffs',color='Country',text='Country',\n",
    "      title='Layoffs By Country Year-wise'\n",
    "      )"
   ]
  },
  {
   "cell_type": "markdown",
   "id": "235806f3",
   "metadata": {},
   "source": [
    "# United States Data"
   ]
  },
  {
   "cell_type": "code",
   "execution_count": null,
   "id": "02079b53",
   "metadata": {},
   "outputs": [],
   "source": [
    "usa_df = layoff2[layoff2['country']==\"United States\"]"
   ]
  },
  {
   "cell_type": "code",
   "execution_count": null,
   "id": "8adc54fe",
   "metadata": {},
   "outputs": [],
   "source": [
    "plt.figure(figsize=(7,7))\n",
    "sns.countplot(x=usa_df['industry'], data=usa_df)\n",
    "plt.title('Most Affected Industries in the USA')\n",
    "plt.xticks(rotation=90)\n",
    "plt.show()"
   ]
  },
  {
   "cell_type": "code",
   "execution_count": null,
   "id": "6ae4e89b",
   "metadata": {
    "scrolled": true
   },
   "outputs": [],
   "source": [
    "loc = sns.displot(x=usa_df['location'], data=usa_df, kde=True)\n",
    "plt.title('Most Affected Locations in the USA')\n",
    "loc.fig.set_figwidth(10)\n",
    "loc.fig.set_figheight(6)"
   ]
  },
  {
   "cell_type": "code",
   "execution_count": null,
   "id": "b4ff9c7d",
   "metadata": {
    "scrolled": true
   },
   "outputs": [],
   "source": [
    "usa_companies = usa_df.groupby(['company']).sum().sort_values(['total_laid_off'],ascending=False)\n",
    "usa_companies"
   ]
  },
  {
   "cell_type": "code",
   "execution_count": null,
   "id": "b2eebd82",
   "metadata": {},
   "outputs": [],
   "source": [
    "px.bar(usa_companies.iloc[:10,:1], text_auto=True,title='Top 10 companies in the USA with the most Layoffs ')"
   ]
  },
  {
   "cell_type": "markdown",
   "id": "62650ddd",
   "metadata": {},
   "source": [
    "# Prediction, Classification, & Regression"
   ]
  },
  {
   "cell_type": "code",
   "execution_count": null,
   "id": "21f652ad",
   "metadata": {},
   "outputs": [],
   "source": [
    "from sklearn.model_selection import train_test_split\n",
    "from sklearn.tree import DecisionTreeClassifier\n",
    "from sklearn.ensemble import BaggingClassifier, RandomForestClassifier\n",
    "from sklearn.tree import plot_tree\n",
    "from sklearn.metrics import accuracy_score"
   ]
  },
  {
   "cell_type": "code",
   "execution_count": null,
   "id": "cb2aefad",
   "metadata": {},
   "outputs": [],
   "source": [
    "df = layoff2.fillna(0)\n",
    "df"
   ]
  },
  {
   "cell_type": "code",
   "execution_count": null,
   "id": "dfb68ed9",
   "metadata": {},
   "outputs": [],
   "source": [
    "numerical_cols = df._get_numeric_data().columns\n",
    "categorical_cols = list(set(df.columns)-set(numerical_cols))\n",
    "categorical_cols"
   ]
  },
  {
   "cell_type": "code",
   "execution_count": null,
   "id": "bbc77aef",
   "metadata": {},
   "outputs": [],
   "source": [
    "df2 = df.drop('date', axis =1)\n",
    "df2 = df.drop(\"company\", axis = 1) \n",
    "df2"
   ]
  },
  {
   "cell_type": "markdown",
   "id": "ecb0a161",
   "metadata": {},
   "source": [
    "Let's turns all the the text values in the column of the dataset into numerical values"
   ]
  },
  {
   "cell_type": "markdown",
   "id": "b317c7d4",
   "metadata": {},
   "source": [
    "Stage"
   ]
  },
  {
   "cell_type": "code",
   "execution_count": null,
   "id": "98aa35f1",
   "metadata": {},
   "outputs": [],
   "source": [
    "# df2[\"stage\"].unique()"
   ]
  },
  {
   "cell_type": "code",
   "execution_count": null,
   "id": "0ba22ec9",
   "metadata": {},
   "outputs": [],
   "source": [
    "df2[\"stage\"] = df2[\"stage\"].replace({'Series D':1, 'Unknown':2, 'IPO':3, 'Series A':4, 'Series B':5, 'Series C':6,\n",
    "       'Private Equity':7, 'Acquired':8, 'Series H':9, 'Series F':10, 'Series E':11,\n",
    "       'Series G':12, 'Seed':13, 'Series J':14, 'Series I':15})\n",
    "df2"
   ]
  },
  {
   "cell_type": "markdown",
   "id": "0a0ca39f",
   "metadata": {},
   "source": [
    "Country"
   ]
  },
  {
   "cell_type": "code",
   "execution_count": null,
   "id": "c04187b3",
   "metadata": {},
   "outputs": [],
   "source": [
    "# df2['country'].unique()"
   ]
  },
  {
   "cell_type": "code",
   "execution_count": null,
   "id": "f5847f27",
   "metadata": {},
   "outputs": [],
   "source": [
    "df2[\"country\"] = df2[\"country\"].replace({'United States':1, 'Indonesia':2, 'India':3, 'Sweden':4, 'Greece':5,\n",
    "       'Brazil':6, 'Poland':7, 'Germany':8, 'Israel':9, 'Seychelles':10, 'Norway':11,\n",
    "       'Canada':12, 'United Kingdom':13, 'Belgium':14, 'Argentina':15, 'Netherlands':16,\n",
    "       'Denmark':17, 'Hong Kong':18, 'Singapore':19, 'New Zealand':20, 'Australia':21,\n",
    "       'Malaysia':22, 'Hungary':23, 'Vietnam':24, 'Egypt':25, 'Austria':26, 'Thailand':27,\n",
    "       'Romania':28, 'Lithuania':29, 'Nigeria':30, 'Kenya':31, 'Chile':32, 'Luxembourg':33,\n",
    "       'China':34, 'Senegal':35, 'Pakistan':36, 'United Arab Emirates':37, 'Colombia':38,\n",
    "       'Finland':39, 'Peru':40, 'Ireland':41, 'Bahrain':42, 'Mexico':43, 'Turkey':44,\n",
    "       'Russia':45, 'Uruguay':46, 'Bulgaria':47, 'France':48, 'Switzerland':49,\n",
    "       'Estonia':50, 'Portugal':51, 'South Africa':52, 'Czech Republic':53, 'Myanmar':54})\n",
    "df2[\"country\"].unique()"
   ]
  },
  {
   "cell_type": "markdown",
   "id": "910ddc62",
   "metadata": {},
   "source": [
    "Industry"
   ]
  },
  {
   "cell_type": "code",
   "execution_count": null,
   "id": "dc4aaf5b",
   "metadata": {},
   "outputs": [],
   "source": [
    "# df2[\"industry\"].unique()"
   ]
  },
  {
   "cell_type": "code",
   "execution_count": null,
   "id": "245996b5",
   "metadata": {},
   "outputs": [],
   "source": [
    "df2[\"industry\"] = df2[\"industry\"].replace({'Real Estate':1, 'Transportation':2, 'Consumer':3,'Crypto':4, 'Other':5,\n",
    "       'Marketing':6, 'Education':7, 'Logistics':8, 'HR':9, 'Finance':10,\n",
    "       'Healthcare':11, 'Media':12, 'Aerospace':13, 'Sales':4, 'Support':15, 'Security':16,\n",
    "       'Data':17, 'Retail':18, 'Food':19, 'Travel':20, 'Recruiting':21,'Legal':22,\n",
    "       'Construction':23, 'Fitness':24, 'Product':25, 'Energy':26, 'Infrastructure':27})\n",
    "\n",
    "df2[\"industry\"].unique()"
   ]
  },
  {
   "cell_type": "markdown",
   "id": "ee4acee9",
   "metadata": {},
   "source": [
    "Location"
   ]
  },
  {
   "cell_type": "code",
   "execution_count": null,
   "id": "34306688",
   "metadata": {},
   "outputs": [],
   "source": [
    "# df2[\"location\"].unique()"
   ]
  },
  {
   "cell_type": "code",
   "execution_count": null,
   "id": "01919588",
   "metadata": {},
   "outputs": [],
   "source": [
    "df2[\"location\"] = df2[\"location\"].replace({'SF Bay Area':0, 'Jakarta':1, 'Boston':2, 'Lehi':3, 'Eindhoven':4, 'Austin':5,\n",
    "       'Seattle':6, 'Los Angeles':7, 'Columbus':8, 'Chicago':9, 'Bengaluru':10,\n",
    "       'Stockholm':11, 'Athens':12, 'Sao Paulo':13, 'Minneapolis':14, 'New York City':15,\n",
    "       'Krakow':16, 'Hyderabad':17, 'Berlin':18, 'Nebraska City':19, 'Copenhagen':20,\n",
    "       'Vancouver':21, 'Tel Aviv':22, 'Stamford':23, 'Non-U.S.':24, 'Trondheim':25,\n",
    "       'Grand Rapids':26, 'Oslo':27, 'Toronto':28, 'Pittsburgh':29, 'Düsseldorf':30,\n",
    "       'Montreal':31, 'Mumbai':32, 'San Luis Obispo':33, 'Jerusalem':34, 'New Delhi':35,\n",
    "       'Belo Horizonte':36, 'Baltimore':37, 'London':38, 'Philadelphia':39,\n",
    "       'St. Louis':40, 'Brussels':41, 'Buenos Aires':42, 'Noida':43, 'The Hague':44,\n",
    "       'Hong Kong':45, 'Singapore':46, 'Birmingham':47, 'Auckland':48,\n",
    "       'Salt Lake City':49, 'Sydney':50, 'Kuala Lumpur':51, 'Munich':52,\n",
    "       'Mexico City':53, 'Las Vegas':54, 'Budapest':55, 'Atlanta':56,\n",
    "       'Ho Chi Minh City':57, 'Winnipeg':58, 'Cairo':59, 'Denver':60, 'Vienna':61,\n",
    "       'Bangkok':62, 'Vilnius':63, 'Raleigh':64, 'Portland':65, 'Lagos':66, 'Ottawa':67,\n",
    "       'Richmond':68, 'Bristol':69,'Washington D.C.':70, 'Melbourne':71, 'Saskatoon':72,\n",
    "       'Brisbane':73, 'Porto Alegre':74, 'Indianapolis':75, 'Nairobi':76, 'Santiago':77,\n",
    "       'Curitiba':78, 'Dallas':79, 'Miami':80, 'Gurugram':81, 'Luxembourg':82, 'Boulder':83,\n",
    "       'New Haven':84, 'Victoria':85, 'Beijing':86, 'Waterloo':87, 'Detroit':88,\n",
    "       'Amsterdam':89, 'Ferdericton':90, 'Dakar':91, 'Florianópolis':92, 'Lahore':93,\n",
    "       'Santa Barbara':94, 'Shenzen':95, 'Durham':96, 'Louisville':97, 'Hamburg':98,\n",
    "       'Nashua':99, 'Huntsville':100, 'Dubai':101, 'San Diego':102, 'Spokane':103, 'Bogota':104,\n",
    "       'Chennai':105, 'Shanghai':106, 'Reno':107, 'Helsinki':108, 'Lima':109, 'Houston':110,\n",
    "       'Malmo':111, 'Bend':112, 'Dublin':113, 'Selangor':114, 'Manama':115, 'Karachi':116,\n",
    "       'Bucharest':117, 'Istanbul':118, 'Cincinnati':119, 'Moscow':120, 'Phoenix':121,\n",
    "       'Davenport':122, 'Calgary':123, 'Nashville':124, 'Montevideo':125, 'Edinburgh':126,\n",
    "       'Fayetteville':127, 'Madison':128, 'Sofia':129, 'Santa Fe':130, 'Cork':131, 'Paris':132,\n",
    "       'Ahmedabad':134, 'Joinville':135, 'Hanoi':136, 'Norwalk':137, 'Zurich':138, 'Tallin':139,\n",
    "       'Dusseldorf':140, 'Lisbon':141, 'Cape Town':142, 'Missoula':143, 'Guadalajara':144,\n",
    "       'Blumenau':145, 'Milwaukee':146, 'Ann Arbor':147, 'Quebec':148, 'Prague':149, 'Yangon':150,\n",
    "       'New Orleans':151, 'Sacramento':152, 'Charlotte':153, 'Tampa Bay':154})\n",
    "\n",
    "\n",
    "df2[\"location\"].unique"
   ]
  },
  {
   "cell_type": "code",
   "execution_count": null,
   "id": "564d6ab4",
   "metadata": {},
   "outputs": [],
   "source": [
    "df2"
   ]
  },
  {
   "cell_type": "markdown",
   "id": "803212a2",
   "metadata": {},
   "source": [
    "Training & Testing"
   ]
  },
  {
   "cell_type": "code",
   "execution_count": null,
   "id": "5c1468fa",
   "metadata": {},
   "outputs": [],
   "source": [
    "X = df.drop(\"country\", axis =1)\n",
    "y = df2.iloc[:,-1]\n",
    "print(X.shape)\n",
    "print(y.shape)"
   ]
  },
  {
   "cell_type": "code",
   "execution_count": null,
   "id": "fa80351e",
   "metadata": {
    "scrolled": true
   },
   "outputs": [],
   "source": [
    "X_train, X_test, y_train, y_test = train_test_split(X, y, test_size = 0.2, random_state = 100)\n",
    "print(X_train.shape)\n",
    "print(X_test.shape)\n",
    "print(y_train.shape)\n",
    "print(y_test.shape)"
   ]
  },
  {
   "cell_type": "code",
   "execution_count": null,
   "id": "19d48675",
   "metadata": {},
   "outputs": [],
   "source": [
    "dt = DecisionTreeClassifier()\n",
    "dt.fit(X_train, y_train)"
   ]
  },
  {
   "cell_type": "code",
   "execution_count": null,
   "id": "c7ae30d2",
   "metadata": {},
   "outputs": [],
   "source": [
    "y_pred = dt.predict(X_test)\n",
    "y_pred"
   ]
  },
  {
   "cell_type": "code",
   "execution_count": null,
   "id": "21777b25",
   "metadata": {},
   "outputs": [],
   "source": [
    "y_pred_query= dt.predict([[1,2,1000.0,0.10,1300.0,2]])\n",
    "y_pred_query"
   ]
  },
  {
   "cell_type": "code",
   "execution_count": null,
   "id": "def1889f",
   "metadata": {},
   "outputs": [],
   "source": [
    "y_test"
   ]
  },
  {
   "cell_type": "markdown",
   "id": "abab2229",
   "metadata": {},
   "source": [
    "Decision Tree "
   ]
  },
  {
   "cell_type": "code",
   "execution_count": null,
   "id": "48378a20",
   "metadata": {},
   "outputs": [],
   "source": [
    "plt.figure(figsize = (25,10))\n",
    "plot_tree(dt)\n",
    "plt.title(\"Layoff Decision Tree\", fontsize = 25)"
   ]
  },
  {
   "cell_type": "markdown",
   "id": "736ecbae",
   "metadata": {},
   "source": [
    "Decision Tree Accuracy"
   ]
  },
  {
   "cell_type": "code",
   "execution_count": null,
   "id": "40681b1b",
   "metadata": {},
   "outputs": [],
   "source": [
    "print(\"Decision Tree accuracy is: {:.2f}\".format(accuracy_score(y_test, y_pred)*100))"
   ]
  },
  {
   "cell_type": "markdown",
   "id": "a6760c5d",
   "metadata": {},
   "source": [
    "Bagging"
   ]
  },
  {
   "cell_type": "code",
   "execution_count": null,
   "id": "44b1907c",
   "metadata": {},
   "outputs": [],
   "source": [
    "bag = BaggingClassifier(n_estimators=100)\n",
    "bag.fit(X_train, y_train)"
   ]
  },
  {
   "cell_type": "code",
   "execution_count": null,
   "id": "845027f9",
   "metadata": {},
   "outputs": [],
   "source": [
    "y_pred_bag = bag.predict(X_test)\n",
    "y_pred_bag"
   ]
  },
  {
   "cell_type": "markdown",
   "id": "c50226fe",
   "metadata": {},
   "source": [
    "Bagging Accuracy"
   ]
  },
  {
   "cell_type": "code",
   "execution_count": null,
   "id": "5a4b3997",
   "metadata": {},
   "outputs": [],
   "source": [
    "print(\"Bagging accuracy score:{:.2f}\".format(accuracy_score(y_test, y_pred_bag)*100))"
   ]
  },
  {
   "cell_type": "markdown",
   "id": "e302e273",
   "metadata": {},
   "source": [
    "Random Forest Classifier"
   ]
  },
  {
   "cell_type": "code",
   "execution_count": null,
   "id": "b1d466cb",
   "metadata": {},
   "outputs": [],
   "source": [
    "rf = RandomForestClassifier()\n",
    "rf.fit(X_train, y_train)"
   ]
  },
  {
   "cell_type": "code",
   "execution_count": null,
   "id": "4d2263ec",
   "metadata": {},
   "outputs": [],
   "source": [
    "y_pred_rf = rf.predict(X_test)\n",
    "y_pred_rf"
   ]
  },
  {
   "cell_type": "code",
   "execution_count": null,
   "id": "c48a933d",
   "metadata": {},
   "outputs": [],
   "source": [
    "Random Forest  Accuracy"
   ]
  },
  {
   "cell_type": "code",
   "execution_count": null,
   "id": "cc499b64",
   "metadata": {},
   "outputs": [],
   "source": [
    "print(\"Random Forest accuracy is: {:.2f}\". format(accuracy_score(y_test, y_pred_rand)*100))"
   ]
  },
  {
   "cell_type": "markdown",
   "id": "e0bb1d67",
   "metadata": {},
   "source": [
    "Overall Accuracy Scores"
   ]
  },
  {
   "cell_type": "code",
   "execution_count": null,
   "id": "2f373b53",
   "metadata": {},
   "outputs": [],
   "source": [
    "print(\"Decision Tree accuracy is: {:.2f}\".format(accuracy_score(y_test, y_pred)*100))\n",
    "print(\"Bagging accuracy score:{:.2f}\".format(accuracy_score(y_test, y_pred_bag)*100))\n",
    "print(\"Random Forest accuracy is: {:.2f}\". format(accuracy_score(y_test, y_pred_rand)*100))"
   ]
  },
  {
   "cell_type": "markdown",
   "id": "79b1e818",
   "metadata": {},
   "source": [
    "# Autovisualization "
   ]
  },
  {
   "cell_type": "markdown",
   "id": "7cbf34f4",
   "metadata": {},
   "source": [
    "Let's do an autovisualization of all the data"
   ]
  },
  {
   "cell_type": "code",
   "execution_count": null,
   "id": "0892ad4a",
   "metadata": {},
   "outputs": [],
   "source": [
    "from autoviz.AutoViz_Class import AutoViz_Class\n",
    "\n",
    "AV = AutoViz_Class()\n",
    "\n",
    "filename = '../data/layoffs.csv'\n",
    "AV.AutoViz(filename, depVar='total_laid_off', sep=\",\", dfte=None, chart_format='svg', max_rows_analyzed=160000, max_cols_analyzed=30)"
   ]
  },
  {
   "cell_type": "code",
   "execution_count": null,
   "id": "1f689543",
   "metadata": {},
   "outputs": [],
   "source": []
  }
 ],
 "metadata": {
  "kernelspec": {
   "display_name": "Python 3 (ipykernel)",
   "language": "python",
   "name": "python3"
  },
  "language_info": {
   "codemirror_mode": {
    "name": "ipython",
    "version": 3
   },
   "file_extension": ".py",
   "mimetype": "text/x-python",
   "name": "python",
   "nbconvert_exporter": "python",
   "pygments_lexer": "ipython3",
   "version": "3.9.7"
  }
 },
 "nbformat": 4,
 "nbformat_minor": 5
}
