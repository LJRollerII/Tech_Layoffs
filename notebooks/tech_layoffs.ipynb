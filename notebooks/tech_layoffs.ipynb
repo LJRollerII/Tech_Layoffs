{
 "cells": [
  {
   "cell_type": "code",
   "execution_count": null,
   "id": "58893755",
   "metadata": {},
   "outputs": [],
   "source": [
    "import pandas as pd\n",
    "import numpy as np\n",
    "import matplotlib.pyplot as plt\n",
    "import seaborn as sns\n",
    "%matplotlib inline"
   ]
  },
  {
   "cell_type": "code",
   "execution_count": null,
   "id": "f1ee3098",
   "metadata": {},
   "outputs": [],
   "source": [
    "layoff_df = pd.read_csv(\"../data/layoffs.csv\")\n",
    "layoff_df"
   ]
  },
  {
   "cell_type": "code",
   "execution_count": null,
   "id": "2c8facf0",
   "metadata": {},
   "outputs": [],
   "source": [
    "layoff_df.info"
   ]
  },
  {
   "cell_type": "code",
   "execution_count": null,
   "id": "4972706c",
   "metadata": {
    "scrolled": true
   },
   "outputs": [],
   "source": [
    "print(layoff_df.dtypes)"
   ]
  },
  {
   "cell_type": "code",
   "execution_count": null,
   "id": "33cf871e",
   "metadata": {},
   "outputs": [],
   "source": [
    "layoff_df.isnull().sum()"
   ]
  },
  {
   "cell_type": "code",
   "execution_count": null,
   "id": "3dc781ad",
   "metadata": {},
   "outputs": [],
   "source": [
    "industry = pd.DataFrame(layoff_df.industry.value_counts().reset_index())\n",
    "industry"
   ]
  },
  {
   "cell_type": "code",
   "execution_count": null,
   "id": "f874b128",
   "metadata": {},
   "outputs": [],
   "source": [
    "industry.columns = ['Industry', 'Companies']\n",
    "industry"
   ]
  },
  {
   "cell_type": "code",
   "execution_count": null,
   "id": "74ba1ba6",
   "metadata": {
    "scrolled": false
   },
   "outputs": [],
   "source": [
    "industry.Companies.nlargest(5)"
   ]
  },
  {
   "cell_type": "code",
   "execution_count": null,
   "id": "1d94ff47",
   "metadata": {},
   "outputs": [],
   "source": [
    "topind_layoffs = industry[industry['Industry'].isin(['Finance', 'Retail', 'Healthcare','Transportation', 'Marketing'])]"
   ]
  },
  {
   "cell_type": "code",
   "execution_count": null,
   "id": "0d81ea1c",
   "metadata": {},
   "outputs": [],
   "source": [
    "plt.bar(topind_layoffs.Industry,topind_layoffs.Companies)\n",
    "plt.title('Industry with the most Layoffs')\n",
    "plt.xlabel('Industry')\n",
    "plt.ylabel('Number of Companies')\n",
    "plt.show()"
   ]
  },
  {
   "cell_type": "code",
   "execution_count": null,
   "id": "b7e1b9d6",
   "metadata": {},
   "outputs": [],
   "source": [
    "location = pd.DataFrame(layoff_df.location.value_counts().reset_index())\n",
    "location"
   ]
  },
  {
   "cell_type": "code",
   "execution_count": null,
   "id": "3ceb1c9b",
   "metadata": {},
   "outputs": [],
   "source": [
    "location.columns = ['Location', 'Companies']\n",
    "location"
   ]
  },
  {
   "cell_type": "code",
   "execution_count": null,
   "id": "fa28b3f4",
   "metadata": {},
   "outputs": [],
   "source": [
    "top_location = location[location['Location'].isin(['SF Bay Area', 'New York City', 'Los Angeles','Boston', 'Seattle'])]"
   ]
  },
  {
   "cell_type": "code",
   "execution_count": null,
   "id": "f65ddec1",
   "metadata": {},
   "outputs": [],
   "source": [
    "plt.step(top_location.Location,top_location.Companies, color='green')\n",
    "plt.title('Location with the most Layoffs')\n",
    "plt.xlabel('Location')\n",
    "plt.ylabel('Number of Companies')\n",
    "plt.show()"
   ]
  },
  {
   "cell_type": "code",
   "execution_count": null,
   "id": "7dcf6382",
   "metadata": {},
   "outputs": [],
   "source": [
    "country = pd.DataFrame(layoff_df.country.value_counts().reset_index())\n",
    "country"
   ]
  },
  {
   "cell_type": "code",
   "execution_count": null,
   "id": "57c560aa",
   "metadata": {},
   "outputs": [],
   "source": [
    "country.columns = ['Country', 'Companies']\n",
    "country"
   ]
  },
  {
   "cell_type": "code",
   "execution_count": null,
   "id": "bcfe419f",
   "metadata": {},
   "outputs": [],
   "source": [
    "top_countries = country[country['Country'].isin(['United States', 'India', 'Canada','Brazil', 'United Kingdom'])]"
   ]
  },
  {
   "cell_type": "code",
   "execution_count": null,
   "id": "bcf115b4",
   "metadata": {},
   "outputs": [],
   "source": [
    "plt.stackplot(top_countries.Country,top_countries.Companies, color='purple')\n",
    "plt.title('Country with the most Layoffs')\n",
    "plt.xlabel('Country')\n",
    "plt.ylabel('Number of Companies')\n",
    "plt.show()"
   ]
  },
  {
   "cell_type": "code",
   "execution_count": null,
   "id": "9ca55e3d",
   "metadata": {
    "scrolled": true
   },
   "outputs": [],
   "source": [
    "# Creating dataset\n",
    "nations = ['United States', 'India', 'Canada',\n",
    "           'Brazil', 'United Kingdom']\n",
    "\n",
    "\n",
    "nation_data = [1062, 101, 69, 29, 52, 46]\n",
    "\n",
    "\n",
    "# Creating explode data\n",
    "explode = (0.1, 0.0, 0.2, 0.3, 0.0, 0.0)\n",
    "\n",
    "# Creating color parameters\n",
    "colors = ( \"orange\", \"cyan\", \"brown\",\n",
    "          \"grey\", \"indigo\", \"beige\")\n",
    "\n",
    "# Wedge properties\n",
    "wp = { 'linewidth' : 1, 'edgecolor' : \"green\" }\n",
    "\n",
    "# Creating autocpt arguments\n",
    "def func(pct, allvalues):\n",
    "    absolute = int(pct / 100.*np.sum(allvalues))\n",
    "    return \"{:.1f}%\\n({:d} g)\".format(pct, absolute)\n",
    "\n",
    "# Creating plot\n",
    "fig, ax = plt.subplots(figsize =(10, 7))\n",
    "wedges, texts, autotexts = ax.pie(nation_data,\n",
    "                                autopct = lambda pct: func(pct, nation_data),\n",
    "                                explode = explode,\n",
    "                                labels = nations,\n",
    "                                shadow = True,\n",
    "                                colors = colors,\n",
    "                                startangle = 90,\n",
    "                                wedgeprops = wp,\n",
    "                                textprops = dict(color =\"magenta\"))\n",
    "\n",
    "# Adding legend\n",
    "ax.legend(wedges, nations,\n",
    "        title =\"Countries\",\n",
    "        loc =\"center left\",\n",
    "        bbox_to_anchor =(1, 0, 0.5, 1))\n",
    "\n",
    "plt.setp(autotexts, size = 8, weight =\"bold\")\n",
    "ax.set_title(\"Countries with the most Layoffs\")\n",
    "\n",
    "# show plot\n",
    "plt.show()\n"
   ]
  },
  {
   "cell_type": "code",
   "execution_count": null,
   "id": "4e61b15c",
   "metadata": {
    "scrolled": true
   },
   "outputs": [],
   "source": [
    "top_companies = layoff_df.nlargest(5,['total_laid_off'])\n",
    "top_companies"
   ]
  },
  {
   "cell_type": "code",
   "execution_count": null,
   "id": "8ab960d1",
   "metadata": {},
   "outputs": [],
   "source": [
    "plt.figure(figsize=(10,6))\n",
    "sns.barplot(x=top_companies.company, y=top_companies.total_laid_off)\n",
    "plt.title(\"Company with the most Layoffs\", fontsize=15, fontweight='bold')\n",
    "plt.xlabel(\"Company\")\n",
    "plt.ylabel(\"Number of Layoffs\")\n",
    "plt.show()"
   ]
  },
  {
   "cell_type": "markdown",
   "id": "66878dc3",
   "metadata": {},
   "source": [
    "Let's do a correlation map of all the data"
   ]
  },
  {
   "cell_type": "code",
   "execution_count": null,
   "id": "e7215a50",
   "metadata": {},
   "outputs": [],
   "source": [
    "layoff_df.corr()"
   ]
  },
  {
   "cell_type": "code",
   "execution_count": null,
   "id": "8b31c01f",
   "metadata": {},
   "outputs": [],
   "source": [
    "sns.heatmap(layoff_df, annot=True, cmap=\"coolwarm\")"
   ]
  },
  {
   "cell_type": "markdown",
   "id": "4ce5cdba",
   "metadata": {},
   "source": [
    "Let's get some more info in regards to the number of people laid off."
   ]
  },
  {
   "cell_type": "code",
   "execution_count": null,
   "id": "fd33b101",
   "metadata": {},
   "outputs": [],
   "source": [
    "layoff_df.total_laid_off.mean()"
   ]
  },
  {
   "cell_type": "code",
   "execution_count": null,
   "id": "3751b7af",
   "metadata": {},
   "outputs": [],
   "source": [
    "layoff_df.total_laid_off.min()"
   ]
  },
  {
   "cell_type": "code",
   "execution_count": null,
   "id": "a1d4c499",
   "metadata": {},
   "outputs": [],
   "source": [
    "layoff_df.total_laid_off.max()"
   ]
  },
  {
   "cell_type": "code",
   "execution_count": null,
   "id": "cbe1c185",
   "metadata": {},
   "outputs": [],
   "source": [
    "layoff_df.total_laid_off.sum()"
   ]
  },
  {
   "cell_type": "markdown",
   "id": "f5409c2e",
   "metadata": {},
   "source": [
    "Now let's do the same for the amount of funds raised"
   ]
  },
  {
   "cell_type": "code",
   "execution_count": null,
   "id": "5de5fe9b",
   "metadata": {},
   "outputs": [],
   "source": [
    "layoff_df.funds_raised.mean()"
   ]
  },
  {
   "cell_type": "code",
   "execution_count": null,
   "id": "d8597e30",
   "metadata": {},
   "outputs": [],
   "source": [
    "layoff_df.funds_raised.min()"
   ]
  },
  {
   "cell_type": "code",
   "execution_count": null,
   "id": "05820461",
   "metadata": {},
   "outputs": [],
   "source": [
    "layoff_df.funds_raised.max()"
   ]
  },
  {
   "cell_type": "code",
   "execution_count": null,
   "id": "7b5fcc0f",
   "metadata": {},
   "outputs": [],
   "source": [
    "layoff_df.funds_raised.sum()"
   ]
  },
  {
   "cell_type": "markdown",
   "id": "79b1e818",
   "metadata": {},
   "source": [
    "Let's do an autovisualization of all the data"
   ]
  },
  {
   "cell_type": "code",
   "execution_count": null,
   "id": "a82d34fe",
   "metadata": {},
   "outputs": [],
   "source": [
    "#from autoviz.AutoViz_Class import AutoViz_Class\n",
    "\n",
    "#AV = AutoViz_Class()\n",
    "\n",
    "#viz = AV.AutoViz(\"../data/layoffs.csv\", sep=\",\")"
   ]
  },
  {
   "cell_type": "code",
   "execution_count": null,
   "id": "15ed2c21",
   "metadata": {},
   "outputs": [],
   "source": []
  }
 ],
 "metadata": {
  "kernelspec": {
   "display_name": "Python 3 (ipykernel)",
   "language": "python",
   "name": "python3"
  },
  "language_info": {
   "codemirror_mode": {
    "name": "ipython",
    "version": 3
   },
   "file_extension": ".py",
   "mimetype": "text/x-python",
   "name": "python",
   "nbconvert_exporter": "python",
   "pygments_lexer": "ipython3",
   "version": "3.9.7"
  }
 },
 "nbformat": 4,
 "nbformat_minor": 5
}
