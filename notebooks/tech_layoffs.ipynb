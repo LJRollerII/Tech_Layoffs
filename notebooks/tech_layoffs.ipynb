{
 "cells": [
  {
   "cell_type": "code",
   "execution_count": null,
   "id": "8b18ee2d",
   "metadata": {},
   "outputs": [],
   "source": [
    "import pandas as pd\n",
    "import numpy as np\n",
    "import matplotlib.pyplot as plt\n",
    "import seaborn as sns\n",
    "%matplotlib inline"
   ]
  },
  {
   "cell_type": "code",
   "execution_count": null,
   "id": "7c8ac639",
   "metadata": {},
   "outputs": [],
   "source": [
    "layoff_df = pd.read_csv(\"../data/layoffs.csv\")\n",
    "layoff_df"
   ]
  },
  {
   "cell_type": "code",
   "execution_count": null,
   "id": "887c5327",
   "metadata": {},
   "outputs": [],
   "source": [
    "layoff_df.info"
   ]
  },
  {
   "cell_type": "code",
   "execution_count": null,
   "id": "959760b4",
   "metadata": {
    "scrolled": true
   },
   "outputs": [],
   "source": [
    "print(layoff_df.dtypes)"
   ]
  },
  {
   "cell_type": "code",
   "execution_count": null,
   "id": "5043002b",
   "metadata": {},
   "outputs": [],
   "source": [
    "layoff_df.isnull().sum()"
   ]
  },
  {
   "cell_type": "code",
   "execution_count": null,
   "id": "bdf9f46a",
   "metadata": {},
   "outputs": [],
   "source": [
    "industry = pd.DataFrame(layoff_df.industry.value_counts().reset_index())\n",
    "industry"
   ]
  },
  {
   "cell_type": "code",
   "execution_count": null,
   "id": "f8650c5b",
   "metadata": {},
   "outputs": [],
   "source": [
    "industry.columns = ['Industry', 'Companies']\n",
    "industry"
   ]
  },
  {
   "cell_type": "code",
   "execution_count": null,
   "id": "cf8a8d8e",
   "metadata": {
    "scrolled": false
   },
   "outputs": [],
   "source": [
    "industry.Companies.nlargest(5)"
   ]
  },
  {
   "cell_type": "code",
   "execution_count": null,
   "id": "8eab6c05",
   "metadata": {},
   "outputs": [],
   "source": [
    "topind_layoffs = industry[industry['Industry'].isin(['Finance', 'Retail', 'Healthcare','Transportation', 'Marketing'])]"
   ]
  },
  {
   "cell_type": "code",
   "execution_count": null,
   "id": "59f3881a",
   "metadata": {},
   "outputs": [],
   "source": [
    "plt.bar(topind_layoffs.Industry,topind_layoffs.Companies)\n",
    "plt.title('Industry with the most Layoffs')\n",
    "plt.xlabel('Industry')\n",
    "plt.ylabel('Number of Companies')\n",
    "plt.show()"
   ]
  },
  {
   "cell_type": "code",
   "execution_count": null,
   "id": "50d8eb2d",
   "metadata": {},
   "outputs": [],
   "source": [
    "location = pd.DataFrame(layoff_df.location.value_counts().reset_index())\n",
    "location"
   ]
  },
  {
   "cell_type": "code",
   "execution_count": null,
   "id": "b7641a0b",
   "metadata": {},
   "outputs": [],
   "source": [
    "location.columns = ['Location', 'Companies']\n",
    "location"
   ]
  },
  {
   "cell_type": "code",
   "execution_count": null,
   "id": "0222f283",
   "metadata": {},
   "outputs": [],
   "source": [
    "top_location = location[location['Location'].isin(['SF Bay Area', 'New York City', 'Los Angeles','Boston', 'Seattle'])]"
   ]
  },
  {
   "cell_type": "code",
   "execution_count": null,
   "id": "8ebb583c",
   "metadata": {},
   "outputs": [],
   "source": [
    "plt.step(topind_layoffs.Industry,topind_layoffs.Companies, color='green')\n",
    "plt.title('Location with the most Layoffs')\n",
    "plt.xlabel('Location')\n",
    "plt.ylabel('Number of Companies')\n",
    "plt.show()"
   ]
  },
  {
   "cell_type": "markdown",
   "id": "c38638dc",
   "metadata": {},
   "source": [
    "Let's get some more info in regards to the number of people laid off."
   ]
  },
  {
   "cell_type": "code",
   "execution_count": null,
   "id": "52170fae",
   "metadata": {},
   "outputs": [],
   "source": [
    "layoff_df.total_laid_off.mean()"
   ]
  },
  {
   "cell_type": "code",
   "execution_count": null,
   "id": "9a30fdbd",
   "metadata": {},
   "outputs": [],
   "source": [
    "layoff_df.total_laid_off.min()"
   ]
  },
  {
   "cell_type": "code",
   "execution_count": null,
   "id": "6531293b",
   "metadata": {},
   "outputs": [],
   "source": [
    "layoff_df.total_laid_off.max()"
   ]
  },
  {
   "cell_type": "code",
   "execution_count": null,
   "id": "e99130cf",
   "metadata": {},
   "outputs": [],
   "source": [
    "layoff_df.total_laid_off.sum()"
   ]
  },
  {
   "cell_type": "markdown",
   "id": "ed1cd86c",
   "metadata": {},
   "source": [
    "Let's do an autovisualization of all the data"
   ]
  },
  {
   "cell_type": "code",
   "execution_count": null,
   "id": "1d9d7b7b",
   "metadata": {},
   "outputs": [],
   "source": [
    "#from autoviz.AutoViz_Class import AutoViz_Class\n",
    "\n",
    "#AV = AutoViz_Class()\n",
    "\n",
    "#viz = AV.AutoViz(\"../data/layoffs.csv\", sep=\",\")"
   ]
  },
  {
   "cell_type": "code",
   "execution_count": null,
   "id": "076fa78a",
   "metadata": {},
   "outputs": [],
   "source": []
  }
 ],
 "metadata": {
  "kernelspec": {
   "display_name": "Python 3 (ipykernel)",
   "language": "python",
   "name": "python3"
  },
  "language_info": {
   "codemirror_mode": {
    "name": "ipython",
    "version": 3
   },
   "file_extension": ".py",
   "mimetype": "text/x-python",
   "name": "python",
   "nbconvert_exporter": "python",
   "pygments_lexer": "ipython3",
   "version": "3.9.7"
  }
 },
 "nbformat": 4,
 "nbformat_minor": 5
}
